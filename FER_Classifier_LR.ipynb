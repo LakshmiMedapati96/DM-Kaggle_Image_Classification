{
  "nbformat": 4,
  "nbformat_minor": 0,
  "metadata": {
    "colab": {
      "provenance": []
    },
    "kernelspec": {
      "name": "python3",
      "display_name": "Python 3"
    },
    "language_info": {
      "name": "python"
    }
  },
  "cells": [
    {
      "cell_type": "markdown",
      "source": [
        "CNN with 2 layers - Learning Rate = 0.0001"
      ],
      "metadata": {
        "id": "KYL4a49yeZoN"
      }
    },
    {
      "cell_type": "code",
      "source": [
        "# All the code lines in this cell are taken from Reference [4]\n",
        "\n",
        "import torch\n",
        "import torchvision\n",
        "from torchvision import transforms\n",
        "from torchvision.datasets import ImageFolder\n",
        "from torch.utils.data.dataloader import DataLoader\n",
        "\n",
        "\n",
        "# train and validation data directory\n",
        "train_data_dir = \"images/images/train/\"\n",
        "validation_data_dir = \"images/images/validation/\"\n",
        "\n",
        "\n",
        "# load the train and validation data\n",
        "train_dataset = ImageFolder(train_data_dir,transform = transforms.Compose([\n",
        "                transforms.ToTensor()\n",
        "]))\n",
        "validation_dataset = ImageFolder(validation_data_dir,transforms.Compose([\n",
        "                transforms.ToTensor()\n",
        "]))\n",
        "\n",
        "\n",
        "# load the train and validation into batches.\n",
        "train_dl = DataLoader(train_dataset, batch_size = 128, shuffle = True, num_workers = 4)\n",
        "\n",
        "# Few changes (batch_size, shuffle = False) were made to val_dl object by referring to Reference[1]\n",
        "val_dl = DataLoader(validation_dataset, batch_size = 128, shuffle = False, num_workers = 4)\n",
        "\n",
        "# All the code lines in this cell are taken from Reference [1]\n",
        "\n",
        "import torch.nn as nn # basic building block for neural networks\n",
        "import torch.nn.functional as F # import convolution functions like Relu\n",
        "\n",
        "class Net(nn.Module):\n",
        "# Models a simple Convolutional Neural Network\n",
        "\t\n",
        "    def __init__(self):\n",
        "# initialize the network \n",
        "        super(Net, self).__init__() \n",
        "\n",
        "# The parameters of Conv2d and Linear layers are modified slightly from the original code.\n",
        "\n",
        "# 3x3 square convolution kernel\n",
        "        self.conv1 = nn.Conv2d(3, 32, kernel_size=3)\n",
        "        self.conv2 = nn.Conv2d(32, 64, kernel_size=3)\n",
        "    \n",
        "# Max pooling over a (2, 2) window\n",
        "        self.pool = nn.MaxPool2d(2, 2)\n",
        "         \n",
        "        self.fc1 = nn.Linear(64 * 10 * 10, 512)\n",
        "        self.fc2 = nn.Linear(512, 256)\n",
        "        self.fc3 = nn.Linear(256, 7)\n",
        "\n",
        "    def forward(self, x):\n",
        "# the forward propagation algorithm\n",
        "        x = self.pool(F.relu(self.conv1(x)))\n",
        "        x = self.pool(F.relu(self.conv2(x)))\n",
        "\n",
        "# The parameters of view are modified slightly from the original code.        \n",
        "        x = x.view(-1, 64 * 10 * 10)\n",
        "        x = F.relu(self.fc1(x))\n",
        "        x = F.relu(self.fc2(x))\n",
        "        x = self.fc3(x)\n",
        "        return x\n",
        "\n",
        "net = Net()\n",
        "print(net)\n",
        "\n",
        "# All the code lines in this cell are taken from Reference [1]\n",
        "\n",
        "import torch.optim as optim # optimizer\n",
        "\n",
        "criterion = nn.CrossEntropyLoss()\n",
        "\n",
        "# 'lr' value is modified from the original code.\n",
        "optimizer = optim.SGD(net.parameters(), lr = 0.0001, momentum = 0.9)\n",
        "\n",
        "# The below code lines are taken from Reference [1]\n",
        "\n",
        "# 'Number of epochs'is modified from the original code.\n",
        "import time                       # code line referred from Reference [7]\n",
        "\n",
        "train_start_time = time.time()    # code line referred from Reference [7]\n",
        "for epoch in range(10):  # loop over the dataset multiple times\n",
        "\n",
        "    running_loss = 0.0\n",
        "    total = 0\n",
        "    correct = 0\n",
        "    for i, data in enumerate(train_dl, 0):\n",
        "        # get the inputs; data is a list of [inputs, labels]\n",
        "        inputs, labels = data\n",
        "\n",
        "        # zero the parameter gradients\n",
        "        optimizer.zero_grad()\n",
        "\n",
        "        # forward + backward + optimize\n",
        "        outputs = net(inputs)\n",
        "        loss = criterion(outputs, labels)\n",
        "        loss.backward()\n",
        "        optimizer.step()\n",
        "\n",
        "# The below code lines are taken from Reference [5]\n",
        "        running_loss += loss.item()\n",
        "        _, predicted = outputs.max(1)\n",
        "        total += labels.size(0)\n",
        "        correct += predicted.eq(labels).sum().item()\n",
        "       \n",
        "        train_loss1=running_loss/len(train_dl)\n",
        "        accu1=100.*correct/total\n",
        "   \n",
        "train_end_time = time.time()                      # code line referred from Reference [7]\n",
        "t_time1 = train_end_time - train_start_time       # code line referred from Reference [7]\n",
        "       \n",
        "print(\"Training time : %.2fs\"%(t_time1))          # code line referred from Reference [7]\n",
        "\n",
        "print('\\nLoss for train dataset : %.3f | Accuracy for train dataset : %.3f'%(train_loss1,accu1))\n",
        "\n",
        "# The below code lines are taken from Reference [1]\n",
        "# 'Number of epochs' is modified from the original code.\n",
        "\n",
        "for epoch in range(10):\n",
        "    \n",
        "    correct = 0\n",
        "    total = 0\n",
        "    with torch.no_grad():\n",
        "        for data in val_dl:\n",
        "            images, labels = data\n",
        "            outputs = net(images)\n",
        "            _, predicted = torch.max(outputs.data, 1)\n",
        "            total += labels.size(0)\n",
        "            correct += (predicted == labels).sum().item()\n",
        "\n",
        "# The below code lines are taken from Reference [5]\n",
        "            test_loss1=running_loss/len(val_dl)\n",
        "            test_accu1=100.*correct/total\n",
        "            \n",
        "\n",
        "print('\\nLoss for validation dataset : %.3f | Accuracy for validation dataset : %.3f'%(test_loss1,test_accu1))"
      ],
      "metadata": {
        "colab": {
          "base_uri": "https://localhost:8080/"
        },
        "id": "_2ENdANdZ-hK",
        "outputId": "1aa0ce5d-8bfc-4d34-e7fb-78994a557f13"
      },
      "execution_count": 9,
      "outputs": [
        {
          "output_type": "stream",
          "name": "stdout",
          "text": [
            "Net(\n",
            "  (conv1): Conv2d(3, 32, kernel_size=(3, 3), stride=(1, 1))\n",
            "  (conv2): Conv2d(32, 64, kernel_size=(3, 3), stride=(1, 1))\n",
            "  (pool): MaxPool2d(kernel_size=2, stride=2, padding=0, dilation=1, ceil_mode=False)\n",
            "  (fc1): Linear(in_features=6400, out_features=512, bias=True)\n",
            "  (fc2): Linear(in_features=512, out_features=256, bias=True)\n",
            "  (fc3): Linear(in_features=256, out_features=7, bias=True)\n",
            ")\n"
          ]
        },
        {
          "output_type": "stream",
          "name": "stderr",
          "text": [
            "/usr/local/lib/python3.9/dist-packages/torch/utils/data/dataloader.py:554: UserWarning: This DataLoader will create 4 worker processes in total. Our suggested max number of worker in current system is 2, which is smaller than what this DataLoader is going to create. Please be aware that excessive worker creation might get DataLoader running slow or even freeze, lower the worker number to avoid potential slowness/freeze if necessary.\n",
            "  warnings.warn(_create_warning_msg(\n"
          ]
        },
        {
          "output_type": "stream",
          "name": "stdout",
          "text": [
            "Training time : 989.24s\n",
            "\n",
            "Loss for train dataset : 1.817 | Accuracy for train dataset : 24.857\n",
            "\n",
            "Loss for validation dataset : 7.334 | Accuracy for validation dataset : 25.828\n"
          ]
        }
      ]
    },
    {
      "cell_type": "markdown",
      "source": [
        "CNN with 2 layers - Learning Rate = 0.001"
      ],
      "metadata": {
        "id": "gxpkiuVCe2kB"
      }
    },
    {
      "cell_type": "code",
      "source": [
        "# All the code lines in this cell are taken from Reference [4]\n",
        "\n",
        "import torch\n",
        "import torchvision\n",
        "from torchvision import transforms\n",
        "from torchvision.datasets import ImageFolder\n",
        "from torch.utils.data.dataloader import DataLoader\n",
        "\n",
        "\n",
        "# train and validation data directory\n",
        "train_data_dir = \"images/images/train/\"\n",
        "validation_data_dir = \"images/images/validation/\"\n",
        "\n",
        "\n",
        "# load the train and validation data\n",
        "train_dataset = ImageFolder(train_data_dir,transform = transforms.Compose([\n",
        "                transforms.ToTensor()\n",
        "]))\n",
        "validation_dataset = ImageFolder(validation_data_dir,transforms.Compose([\n",
        "                transforms.ToTensor()\n",
        "]))\n",
        "\n",
        "\n",
        "# load the train and validation into batches.\n",
        "train_dl = DataLoader(train_dataset, batch_size = 128, shuffle = True, num_workers = 4)\n",
        "\n",
        "# Few changes (batch_size, shuffle = False) were made to val_dl object by referring to Reference[1]\n",
        "val_dl = DataLoader(validation_dataset, batch_size = 128, shuffle = False, num_workers = 4)\n",
        "\n",
        "# All the code lines in this cell are taken from Reference [1]\n",
        "\n",
        "import torch.nn as nn # basic building block for neural networks\n",
        "import torch.nn.functional as F # import convolution functions like Relu\n",
        "\n",
        "class Net(nn.Module):\n",
        "# Models a simple Convolutional Neural Network\n",
        "\t\n",
        "    def __init__(self):\n",
        "# initialize the network \n",
        "        super(Net, self).__init__() \n",
        "\n",
        "# The parameters of Conv2d and Linear layers are modified slightly from the original code.\n",
        "\n",
        "# 3x3 square convolution kernel\n",
        "        self.conv1 = nn.Conv2d(3, 32, kernel_size=3)\n",
        "        self.conv2 = nn.Conv2d(32, 64, kernel_size=3)\n",
        "    \n",
        "# Max pooling over a (2, 2) window\n",
        "        self.pool = nn.MaxPool2d(2, 2)\n",
        "         \n",
        "        self.fc1 = nn.Linear(64 * 10 * 10, 512)\n",
        "        self.fc2 = nn.Linear(512, 256)\n",
        "        self.fc3 = nn.Linear(256, 7)\n",
        "\n",
        "    def forward(self, x):\n",
        "# the forward propagation algorithm\n",
        "        x = self.pool(F.relu(self.conv1(x)))\n",
        "        x = self.pool(F.relu(self.conv2(x)))\n",
        "\n",
        "# The parameters of view are modified slightly from the original code.        \n",
        "        x = x.view(-1, 64 * 10 * 10)\n",
        "        x = F.relu(self.fc1(x))\n",
        "        x = F.relu(self.fc2(x))\n",
        "        x = self.fc3(x)\n",
        "        return x\n",
        "\n",
        "net = Net()\n",
        "print(net)\n",
        "\n",
        "# All the code lines in this cell are taken from Reference [1]\n",
        "\n",
        "import torch.optim as optim # optimizer\n",
        "\n",
        "criterion = nn.CrossEntropyLoss()\n",
        "\n",
        "# 'lr' value is modified from the original code.\n",
        "optimizer = optim.SGD(net.parameters(), lr = 0.001, momentum = 0.9)\n",
        "\n",
        "# The below code lines are taken from Reference [1]\n",
        "\n",
        "# 'Number of epochs'is modified from the original code.\n",
        "import time                       # code line referred from Reference [7]\n",
        "\n",
        "train_start_time = time.time()    # code line referred from Reference [7]\n",
        "for epoch in range(10):  # loop over the dataset multiple times\n",
        "\n",
        "    running_loss = 0.0\n",
        "    total = 0\n",
        "    correct = 0\n",
        "    for i, data in enumerate(train_dl, 0):\n",
        "        # get the inputs; data is a list of [inputs, labels]\n",
        "        inputs, labels = data\n",
        "\n",
        "        # zero the parameter gradients\n",
        "        optimizer.zero_grad()\n",
        "\n",
        "        # forward + backward + optimize\n",
        "        outputs = net(inputs)\n",
        "        loss = criterion(outputs, labels)\n",
        "        loss.backward()\n",
        "        optimizer.step()\n",
        "\n",
        "# The below code lines are taken from Reference [5]\n",
        "        running_loss += loss.item()\n",
        "        _, predicted = outputs.max(1)\n",
        "        total += labels.size(0)\n",
        "        correct += predicted.eq(labels).sum().item()\n",
        "       \n",
        "        train_loss2=running_loss/len(train_dl)\n",
        "        accu2=100.*correct/total\n",
        "   \n",
        "train_end_time = time.time()                      # code line referred from Reference [7]\n",
        "t_time2 = train_end_time - train_start_time       # code line referred from Reference [7]\n",
        "       \n",
        "print(\"Training time : %.2fs\"%(t_time2))          # code line referred from Reference [7]\n",
        "\n",
        "print('\\nLoss for train dataset : %.3f | Accuracy for train dataset : %.3f'%(train_loss2,accu2))\n",
        "\n",
        "# The below code lines are taken from Reference [1]\n",
        "# 'Number of epochs' is modified from the original code.\n",
        "\n",
        "for epoch in range(10):\n",
        "    \n",
        "    correct = 0\n",
        "    total = 0\n",
        "    with torch.no_grad():\n",
        "        for data in val_dl:\n",
        "            images, labels = data\n",
        "            outputs = net(images)\n",
        "            _, predicted = torch.max(outputs.data, 1)\n",
        "            total += labels.size(0)\n",
        "            correct += (predicted == labels).sum().item()\n",
        "\n",
        "# The below code lines are taken from Reference [5]\n",
        "            test_loss2=running_loss/len(val_dl)\n",
        "            test_accu2=100.*correct/total\n",
        "            \n",
        "\n",
        "print('\\nLoss for validation dataset : %.3f | Accuracy for validation dataset : %.3f'%(test_loss2,test_accu2))"
      ],
      "metadata": {
        "colab": {
          "base_uri": "https://localhost:8080/"
        },
        "id": "IvRM3J6Ee4ci",
        "outputId": "93acf758-a9af-4e2b-cf5a-1a3dd1740e59"
      },
      "execution_count": 14,
      "outputs": [
        {
          "output_type": "stream",
          "name": "stdout",
          "text": [
            "Net(\n",
            "  (conv1): Conv2d(3, 32, kernel_size=(3, 3), stride=(1, 1))\n",
            "  (conv2): Conv2d(32, 64, kernel_size=(3, 3), stride=(1, 1))\n",
            "  (pool): MaxPool2d(kernel_size=2, stride=2, padding=0, dilation=1, ceil_mode=False)\n",
            "  (fc1): Linear(in_features=6400, out_features=512, bias=True)\n",
            "  (fc2): Linear(in_features=512, out_features=256, bias=True)\n",
            "  (fc3): Linear(in_features=256, out_features=7, bias=True)\n",
            ")\n"
          ]
        },
        {
          "output_type": "stream",
          "name": "stderr",
          "text": [
            "/usr/local/lib/python3.9/dist-packages/torch/utils/data/dataloader.py:554: UserWarning: This DataLoader will create 4 worker processes in total. Our suggested max number of worker in current system is 2, which is smaller than what this DataLoader is going to create. Please be aware that excessive worker creation might get DataLoader running slow or even freeze, lower the worker number to avoid potential slowness/freeze if necessary.\n",
            "  warnings.warn(_create_warning_msg(\n"
          ]
        },
        {
          "output_type": "stream",
          "name": "stdout",
          "text": [
            "Training time : 1108.59s\n",
            "\n",
            "Loss for train dataset : 1.771 | Accuracy for train dataset : 26.890\n",
            "\n",
            "Loss for validation dataset : 7.145 | Accuracy for validation dataset : 29.210\n"
          ]
        }
      ]
    },
    {
      "cell_type": "markdown",
      "source": [
        "CNN with 2 layers - Learning Rate = 0.01"
      ],
      "metadata": {
        "id": "1jc_pVq-fHIc"
      }
    },
    {
      "cell_type": "code",
      "source": [
        "# All the code lines in this cell are taken from Reference [4]\n",
        "\n",
        "import torch\n",
        "import torchvision\n",
        "from torchvision import transforms\n",
        "from torchvision.datasets import ImageFolder\n",
        "from torch.utils.data.dataloader import DataLoader\n",
        "\n",
        "\n",
        "# train and validation data directory\n",
        "train_data_dir = \"images/images/train/\"\n",
        "validation_data_dir = \"images/images/validation/\"\n",
        "\n",
        "\n",
        "# load the train and validation data\n",
        "train_dataset = ImageFolder(train_data_dir,transform = transforms.Compose([\n",
        "                transforms.ToTensor()\n",
        "]))\n",
        "validation_dataset = ImageFolder(validation_data_dir,transforms.Compose([\n",
        "                transforms.ToTensor()\n",
        "]))\n",
        "\n",
        "\n",
        "# load the train and validation into batches.\n",
        "train_dl = DataLoader(train_dataset, batch_size = 128, shuffle = True, num_workers = 4)\n",
        "\n",
        "# Few changes (batch_size, shuffle = False) were made to val_dl object by referring to Reference[1]\n",
        "val_dl = DataLoader(validation_dataset, batch_size = 128, shuffle = False, num_workers = 4)\n",
        "\n",
        "# All the code lines in this cell are taken from Reference [1]\n",
        "\n",
        "import torch.nn as nn # basic building block for neural networks\n",
        "import torch.nn.functional as F # import convolution functions like Relu\n",
        "\n",
        "class Net(nn.Module):\n",
        "# Models a simple Convolutional Neural Network\n",
        "\t\n",
        "    def __init__(self):\n",
        "# initialize the network \n",
        "        super(Net, self).__init__() \n",
        "\n",
        "# The parameters of Conv2d and Linear layers are modified slightly from the original code.\n",
        "\n",
        "# 3x3 square convolution kernel\n",
        "        self.conv1 = nn.Conv2d(3, 32, kernel_size=3)\n",
        "        self.conv2 = nn.Conv2d(32, 64, kernel_size=3)\n",
        "    \n",
        "# Max pooling over a (2, 2) window\n",
        "        self.pool = nn.MaxPool2d(2, 2)\n",
        "         \n",
        "        self.fc1 = nn.Linear(64 * 10 * 10, 512)\n",
        "        self.fc2 = nn.Linear(512, 256)\n",
        "        self.fc3 = nn.Linear(256, 7)\n",
        "\n",
        "    def forward(self, x):\n",
        "# the forward propagation algorithm\n",
        "        x = self.pool(F.relu(self.conv1(x)))\n",
        "        x = self.pool(F.relu(self.conv2(x)))\n",
        "\n",
        "# The parameters of view are modified slightly from the original code.        \n",
        "        x = x.view(-1, 64 * 10 * 10)\n",
        "        x = F.relu(self.fc1(x))\n",
        "        x = F.relu(self.fc2(x))\n",
        "        x = self.fc3(x)\n",
        "        return x\n",
        "\n",
        "net = Net()\n",
        "print(net)\n",
        "\n",
        "# All the code lines in this cell are taken from Reference [1]\n",
        "\n",
        "import torch.optim as optim # optimizer\n",
        "\n",
        "criterion = nn.CrossEntropyLoss()\n",
        "\n",
        "# 'lr' value is modified from the original code.\n",
        "optimizer = optim.SGD(net.parameters(), lr = 0.01, momentum = 0.9)\n",
        "\n",
        "# The below code lines are taken from Reference [1]\n",
        "\n",
        "# 'Number of epochs'is modified from the original code.\n",
        "import time                       # code line referred from Reference [7]\n",
        "\n",
        "train_start_time = time.time()    # code line referred from Reference [7]\n",
        "for epoch in range(10):  # loop over the dataset multiple times\n",
        "\n",
        "    running_loss = 0.0\n",
        "    total = 0\n",
        "    correct = 0\n",
        "    for i, data in enumerate(train_dl, 0):\n",
        "        # get the inputs; data is a list of [inputs, labels]\n",
        "        inputs, labels = data\n",
        "\n",
        "        # zero the parameter gradients\n",
        "        optimizer.zero_grad()\n",
        "\n",
        "        # forward + backward + optimize\n",
        "        outputs = net(inputs)\n",
        "        loss = criterion(outputs, labels)\n",
        "        loss.backward()\n",
        "        optimizer.step()\n",
        "\n",
        "# The below code lines are taken from Reference [5]\n",
        "        running_loss += loss.item()\n",
        "        _, predicted = outputs.max(1)\n",
        "        total += labels.size(0)\n",
        "        correct += predicted.eq(labels).sum().item()\n",
        "       \n",
        "        train_loss3=running_loss/len(train_dl)\n",
        "        accu3=100.*correct/total\n",
        "   \n",
        "train_end_time = time.time()                      # code line referred from Reference [7]\n",
        "t_time3 = train_end_time - train_start_time       # code line referred from Reference [7]\n",
        "       \n",
        "print(\"Training time : %.2fs\"%(t_time3))          # code line referred from Reference [7]\n",
        "\n",
        "print('\\nLoss for train dataset : %.3f | Accuracy for train dataset : %.3f'%(train_loss3,accu3))\n",
        "\n",
        "# The below code lines are taken from Reference [1]\n",
        "# 'Number of epochs' is modified from the original code.\n",
        "\n",
        "for epoch in range(10):\n",
        "    \n",
        "    correct = 0\n",
        "    total = 0\n",
        "    with torch.no_grad():\n",
        "        for data in val_dl:\n",
        "            images, labels = data\n",
        "            outputs = net(images)\n",
        "            _, predicted = torch.max(outputs.data, 1)\n",
        "            total += labels.size(0)\n",
        "            correct += (predicted == labels).sum().item()\n",
        "\n",
        "# The below code lines are taken from Reference [5]\n",
        "            test_loss3=running_loss/len(val_dl)\n",
        "            test_accu3=100.*correct/total\n",
        "            \n",
        "\n",
        "print('\\nLoss for validation dataset : %.3f | Accuracy for validation dataset : %.3f'%(test_loss3,test_accu3))"
      ],
      "metadata": {
        "colab": {
          "base_uri": "https://localhost:8080/"
        },
        "id": "9ZjVAtnrfCqu",
        "outputId": "694c343c-38d3-43ab-ef0b-d23c0a3b1958"
      },
      "execution_count": 16,
      "outputs": [
        {
          "output_type": "stream",
          "name": "stdout",
          "text": [
            "Net(\n",
            "  (conv1): Conv2d(3, 32, kernel_size=(3, 3), stride=(1, 1))\n",
            "  (conv2): Conv2d(32, 64, kernel_size=(3, 3), stride=(1, 1))\n",
            "  (pool): MaxPool2d(kernel_size=2, stride=2, padding=0, dilation=1, ceil_mode=False)\n",
            "  (fc1): Linear(in_features=6400, out_features=512, bias=True)\n",
            "  (fc2): Linear(in_features=512, out_features=256, bias=True)\n",
            "  (fc3): Linear(in_features=256, out_features=7, bias=True)\n",
            ")\n",
            "Training time : 1016.43s\n",
            "\n",
            "Loss for train dataset : 1.177 | Accuracy for train dataset : 55.515\n",
            "\n",
            "Loss for validation dataset : 4.749 | Accuracy for validation dataset : 51.670\n"
          ]
        }
      ]
    },
    {
      "cell_type": "markdown",
      "source": [
        "Plotting Loss, Accuracy and Training Time graphs"
      ],
      "metadata": {
        "id": "wpSG9CGDfsOl"
      }
    },
    {
      "cell_type": "code",
      "source": [
        "# All the code lines in this cell are referred from Reference[6]\n",
        "import matplotlib.pyplot as plt\n",
        "\n",
        "lrate = ['0.0001', '0.001', '0.01']\n",
        "#print(train_losses)\n",
        "\n",
        "train_losses=[train_loss1, train_loss2, train_loss3]\n",
        "train_accu=[accu1, accu2, accu3]\n",
        "validation_losses = [test_loss1, test_loss2, test_loss3]\n",
        "validation_accuracy = [test_accu1, test_accu2, test_accu3]\n",
        "training_time=[t_time1, t_time2, t_time3]\n",
        "\n",
        "\n",
        "# Plotting bar chart for Accuracy of Train set over Learning Rate\n",
        "#plt.subplot(1, 2, 2)\n",
        "plt.bar(lrate,train_accu)\n",
        "plt.xlabel('Learning Rate')\n",
        "plt.ylabel(\"Train Accuracy\")\n",
        "plt.title('Learning Rate Bar Plot')\n",
        "plt.show()\n",
        "\n",
        "# Plotting bar chart for Loss of Train set over Learning Rate\n",
        "#plt.subplot(1, 2, 1)\n",
        "plt.bar(lrate,train_losses)\n",
        "plt.xlabel('Learning Rate')\n",
        "plt.ylabel(\"Train Loss\")\n",
        "plt.title('Learning Rate Bar Plot')\n",
        "plt.show()\n",
        "\n",
        "# Plotting bar chart for Accuracy of Validation set over Learning Rate\n",
        "#plt.subplot(2, 2, 2)\n",
        "plt.bar(lrate,validation_accuracy)\n",
        "plt.xlabel('Learning Rate')\n",
        "plt.ylabel(\"Validation Accuracy\")\n",
        "plt.title('Learning Rate Bar Plot')\n",
        "plt.show()\n",
        "\n",
        "# Plotting bar chart for Loss of Validation set over Learning Rate\n",
        "#plt.subplot(2, 2, 1)\n",
        "plt.bar(lrate,validation_losses)\n",
        "plt.xlabel('Learning Rate')\n",
        "plt.ylabel(\"Validation Loss\")\n",
        "plt.title('Learning Rate Bar Plot')\n",
        "plt.show()\n",
        "\n",
        "# Plotting bar chart for Training time over Learning Rate\n",
        "#plt.subplot(3, 2, 2)\n",
        "plt.bar(lrate,training_time)\n",
        "plt.xlabel('Learning Rate')\n",
        "plt.ylabel(\"Training time\")\n",
        "plt.title('Learning Rate Bar Plot')\n",
        "plt.show()"
      ],
      "metadata": {
        "colab": {
          "base_uri": "https://localhost:8080/",
          "height": 1000
        },
        "id": "lG4-AskIfq--",
        "outputId": "4dcf7a29-36d2-416b-8019-ab69dc102890"
      },
      "execution_count": 18,
      "outputs": [
        {
          "output_type": "display_data",
          "data": {
            "text/plain": [
              "<Figure size 432x288 with 1 Axes>"
            ],
            "image/png": "[encoded data removed]"
          },
          "metadata": {
            "needs_background": "light"
          }
        },
        {
          "output_type": "display_data",
          "data": {
            "text/plain": [
              "<Figure size 432x288 with 1 Axes>"
            ],
            "image/png": "[encoded data removed]"
          },
          "metadata": {
            "needs_background": "light"
          }
        },
        {
          "output_type": "display_data",
          "data": {
            "text/plain": [
              "<Figure size 432x288 with 1 Axes>"
            ],
            "image/png": "[encoded data removed]"
          },
          "metadata": {
            "needs_background": "light"
          }
        },
        {
          "output_type": "display_data",
          "data": {
            "text/plain": [
              "<Figure size 432x288 with 1 Axes>"
            ],
            "image/png": "[encoded data removed]"
          },
          "metadata": {
            "needs_background": "light"
          }
        },
        {
          "output_type": "display_data",
          "data": {
            "text/plain": [
              "<Figure size 432x288 with 1 Axes>"
            ],
            "image/png": "[encoded data removed]"
          },
          "metadata": {
            "needs_background": "light"
          }
        }
      ]
    }
  ]
}