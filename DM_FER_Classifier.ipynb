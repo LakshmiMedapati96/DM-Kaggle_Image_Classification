{
  "nbformat": 4,
  "nbformat_minor": 0,
  "metadata": {
    "colab": {
      "provenance": []
    },
    "kernelspec": {
      "name": "python3",
      "display_name": "Python 3"
    },
    "language_info": {
      "name": "python"
    },
    "accelerator": "GPU",
    "gpuClass": "standard"
  },
  "cells": [
    {
      "cell_type": "markdown",
      "source": [
        "1. Load the train and validation data"
      ],
      "metadata": {
        "id": "Pfvxtb6E99mG"
      }
    },
    {
      "cell_type": "code",
      "source": [
        "# All the code lines in this cell are taken from Reference [4]\n",
        "\n",
        "import torch\n",
        "import torchvision\n",
        "from torchvision import transforms\n",
        "from torchvision.datasets import ImageFolder\n",
        "from torch.utils.data.dataloader import DataLoader\n",
        "\n",
        "\n",
        "# train and validation data directory\n",
        "train_data_dir = \"images/images/train/\"\n",
        "validation_data_dir = \"images/images/validation/\"\n",
        "\n",
        "\n",
        "# load the train and validation data\n",
        "train_dataset = ImageFolder(train_data_dir,transform = transforms.Compose([\n",
        "                transforms.ToTensor()\n",
        "]))\n",
        "validation_dataset = ImageFolder(validation_data_dir,transforms.Compose([\n",
        "                transforms.ToTensor()\n",
        "]))\n",
        "\n",
        "\n",
        "# load the train and validation into batches.\n",
        "train_dl = DataLoader(train_dataset, batch_size = 128, shuffle = True, num_workers = 4)\n",
        "\n",
        "# Few changes (batch_size, shuffle = False) were made to val_dl object by referring to Reference[1]\n",
        "val_dl = DataLoader(validation_dataset, batch_size = 128, shuffle = False, num_workers = 4)"
      ],
      "metadata": {
        "colab": {
          "base_uri": "https://localhost:8080/"
        },
        "id": "JCO2B40sTtEm",
        "outputId": "266b5b01-90c8-483f-8106-53c60d2c2336"
      },
      "execution_count": null,
      "outputs": [
        {
          "output_type": "stream",
          "name": "stderr",
          "text": [
            "/usr/local/lib/python3.9/dist-packages/torch/utils/data/dataloader.py:554: UserWarning: This DataLoader will create 4 worker processes in total. Our suggested max number of worker in current system is 2, which is smaller than what this DataLoader is going to create. Please be aware that excessive worker creation might get DataLoader running slow or even freeze, lower the worker number to avoid potential slowness/freeze if necessary.\n",
            "  warnings.warn(_create_warning_msg(\n"
          ]
        }
      ]
    },
    {
      "cell_type": "markdown",
      "source": [
        "2. Define the Convolutional Neural Network (CNN)"
      ],
      "metadata": {
        "id": "-PAt3znX-Wg3"
      }
    },
    {
      "cell_type": "code",
      "source": [
        "# All the code lines in this cell are taken from Reference [1]\n",
        "\n",
        "import torch.nn as nn # basic building block for neural networks\n",
        "import torch.nn.functional as F # import convolution functions like Relu\n",
        "\n",
        "class Net(nn.Module):\n",
        "# Models a simple Convolutional Neural Network\n",
        "\t\n",
        "    def __init__(self):\n",
        "# initialize the network \n",
        "        super(Net, self).__init__() \n",
        "\n",
        "# The parameters of Conv2d and Linear layers are modified slightly from the original code.\n",
        "\n",
        "# 3x3 square convolution kernel\n",
        "        self.conv1 = nn.Conv2d(3, 32, kernel_size=3)\n",
        "        self.conv2 = nn.Conv2d(32, 64, kernel_size=3)\n",
        "    \n",
        "# Max pooling over a (2, 2) window\n",
        "        self.pool = nn.MaxPool2d(2, 2)\n",
        "         \n",
        "        self.fc1 = nn.Linear(64 * 10 * 10, 512)\n",
        "        self.fc2 = nn.Linear(512, 256)\n",
        "        self.fc3 = nn.Linear(256, 7)\n",
        "\n",
        "    def forward(self, x):\n",
        "# the forward propagation algorithm\n",
        "        x = self.pool(F.relu(self.conv1(x)))\n",
        "        x = self.pool(F.relu(self.conv2(x)))\n",
        "\n",
        "# The parameters of view are modified slightly from the original code.        \n",
        "        x = x.view(-1, 64 * 10 * 10)\n",
        "        x = F.relu(self.fc1(x))\n",
        "        x = F.relu(self.fc2(x))\n",
        "        x = self.fc3(x)\n",
        "        return x\n",
        "\n",
        "net = Net()\n",
        "print(net)"
      ],
      "metadata": {
        "colab": {
          "base_uri": "https://localhost:8080/"
        },
        "id": "Nc29TJWU2iVW",
        "outputId": "280a67eb-c17a-4f08-f586-f7b557b206d4"
      },
      "execution_count": null,
      "outputs": [
        {
          "output_type": "stream",
          "name": "stdout",
          "text": [
            "Net(\n",
            "  (conv1): Conv2d(3, 32, kernel_size=(3, 3), stride=(1, 1))\n",
            "  (conv2): Conv2d(32, 64, kernel_size=(3, 3), stride=(1, 1))\n",
            "  (pool): MaxPool2d(kernel_size=2, stride=2, padding=0, dilation=1, ceil_mode=False)\n",
            "  (fc1): Linear(in_features=6400, out_features=512, bias=True)\n",
            "  (fc2): Linear(in_features=512, out_features=256, bias=True)\n",
            "  (fc3): Linear(in_features=256, out_features=7, bias=True)\n",
            ")\n"
          ]
        }
      ]
    },
    {
      "cell_type": "markdown",
      "source": [
        "3. Define the loss function and optimizer"
      ],
      "metadata": {
        "id": "cEZhgWxr-7qH"
      }
    },
    {
      "cell_type": "code",
      "source": [
        "# All the code lines in this cell are taken from Reference [1]\n",
        "\n",
        "import torch.optim as optim # optimizer\n",
        "\n",
        "criterion = nn.CrossEntropyLoss()\n",
        "\n",
        "# 'lr' value is modified from the original code.\n",
        "optimizer = optim.SGD(net.parameters(), lr = 0.01, momentum = 0.9)"
      ],
      "metadata": {
        "id": "ZZCtkeo82l6v"
      },
      "execution_count": null,
      "outputs": []
    },
    {
      "cell_type": "markdown",
      "source": [
        "4. Train the model on the train data"
      ],
      "metadata": {
        "id": "LQeQYg4Q_CQP"
      }
    },
    {
      "cell_type": "code",
      "source": [
        "# The below code lines are taken from Reference [1]\n",
        "train_losses=[]\n",
        "train_accu=[]\n",
        "\n",
        "# 'Number of epochs'is modified from the original code.\n",
        "for epoch in range(10):  # loop over the dataset multiple times\n",
        "\n",
        "    running_loss = 0.0\n",
        "    total = 0\n",
        "    correct = 0\n",
        "    for i, data in enumerate(train_dl, 0):\n",
        "        # get the inputs; data is a list of [inputs, labels]\n",
        "        inputs, labels = data\n",
        "\n",
        "        # zero the parameter gradients\n",
        "        optimizer.zero_grad()\n",
        "\n",
        "        # forward + backward + optimize\n",
        "        outputs = net(inputs)\n",
        "        loss = criterion(outputs, labels)\n",
        "        loss.backward()\n",
        "        optimizer.step()\n",
        "\n",
        "# The below code lines are taken from Reference [5]\n",
        "        running_loss += loss.item()\n",
        "        _, predicted = outputs.max(1)\n",
        "        total += labels.size(0)\n",
        "        correct += predicted.eq(labels).sum().item()\n",
        "       \n",
        "        train_loss=running_loss/len(train_dl)\n",
        "        accu=100.*correct/total\n",
        "   \n",
        "        train_accu.append(accu)\n",
        "        train_losses.append(train_loss)\n",
        "        \n",
        "print('\\nLoss for train dataset : %.3f | Accuracy for train dataset : %.3f'%(train_loss,accu))"
      ],
      "metadata": {
        "colab": {
          "base_uri": "https://localhost:8080/"
        },
        "id": "U2itP-8T2q83",
        "outputId": "7357a5af-2025-4b24-ec7a-9262eef05434"
      },
      "execution_count": null,
      "outputs": [
        {
          "output_type": "stream",
          "name": "stdout",
          "text": [
            "\n",
            "Loss for train dataset : 1.108 | Accuracy for train dataset : 58.190\n"
          ]
        }
      ]
    },
    {
      "cell_type": "markdown",
      "source": [
        "5. Test the model on the validation data"
      ],
      "metadata": {
        "id": "6ql5yX3L_IIk"
      }
    },
    {
      "cell_type": "code",
      "source": [
        "# The below code lines are taken from Reference [1]\n",
        "# 'Number of epochs' is modified from the original code.\n",
        "\n",
        "for epoch in range(10):\n",
        "    \n",
        "    eval_losses=[]\n",
        "    eval_accu=[]\n",
        "    correct = 0\n",
        "    total = 0\n",
        "    with torch.no_grad():\n",
        "        for data in val_dl:\n",
        "            images, labels = data\n",
        "            outputs = net(images)\n",
        "            _, predicted = torch.max(outputs.data, 1)\n",
        "            total += labels.size(0)\n",
        "            correct += (predicted == labels).sum().item()\n",
        "\n",
        "# The below code lines are taken from Reference [5]\n",
        "            test_loss=running_loss/len(val_dl)\n",
        "            accu=100.*correct/total\n",
        "            \n",
        "            eval_losses.append(test_loss)\n",
        "            eval_accu.append(accu)\n",
        "\n",
        "print('\\nLoss for validation dataset : %.3f | Accuracy for validation dataset : %.3f'%(test_loss,accu))"
      ],
      "metadata": {
        "colab": {
          "base_uri": "https://localhost:8080/"
        },
        "id": "iLERogp83EQo",
        "outputId": "ba801fb4-0ac6-4450-8b0e-f9c0c3c0d31b"
      },
      "execution_count": null,
      "outputs": [
        {
          "output_type": "stream",
          "name": "stdout",
          "text": [
            "\n",
            "Loss for validation dataset : 4.470 | Accuracy for validation dataset : 50.863\n"
          ]
        }
      ]
    },
    {
      "cell_type": "markdown",
      "source": [
        "Plotting the Accuracy and Loss for Train and Validation data"
      ],
      "metadata": {
        "id": "LR7BhDOp_PDU"
      }
    },
    {
      "cell_type": "code",
      "source": [
        "# All the code lines in this cell are taken from Reference [5]\n",
        "\n",
        "import matplotlib.pyplot as plt\n",
        "\n",
        "# Plotting a line graph for Accuracy\n",
        "plt.plot(train_accu,'-o')\n",
        "plt.plot(eval_accu,'-o')\n",
        "plt.xlabel('epoch')\n",
        "plt.ylabel('accuracy')\n",
        "plt.legend(['Train','Valid'])\n",
        "plt.title('Train vs Valid Accuracy')\n",
        " \n",
        "plt.show()\n",
        "    \n",
        "# Plotting a line graph for Loss         \n",
        "plt.plot(train_losses,'-o')\n",
        "plt.plot(eval_losses,'-o')\n",
        "plt.xlabel('epoch')\n",
        "plt.ylabel('losses')\n",
        "plt.legend(['Train','Valid'])\n",
        "plt.title('Train vs Valid Losses')\n",
        " \n",
        "plt.show()"
      ],
      "metadata": {
        "colab": {
          "base_uri": "https://localhost:8080/",
          "height": 573
        },
        "id": "Oi_igLLW3IQo",
        "outputId": "f8febcea-a5ba-4c27-9407-742670f05b02"
      },
      "execution_count": null,
      "outputs": [
        {
          "output_type": "display_data",
          "data": {
            "text/plain": [
              "<Figure size 432x288 with 1 Axes>"
            ],
            "image/png": "[encoded data removed]"
          },
          "metadata": {
            "needs_background": "light"
          }
        },
        {
          "output_type": "display_data",
          "data": {
            "text/plain": [
              "<Figure size 432x288 with 1 Axes>"
            ],
            "image/png": "[encoded data removed]"
          },
          "metadata": {
            "needs_background": "light"
          }
        }
      ]
    }
  ]
}